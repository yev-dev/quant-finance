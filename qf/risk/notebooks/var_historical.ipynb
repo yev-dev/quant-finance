{
 "cells": [
  {
   "cell_type": "markdown",
   "metadata": {},
   "source": [
    "### Value at Risk (VaR) Analysis using the Historical Method"
   ]
  },
  {
   "cell_type": "code",
   "execution_count": 4,
   "metadata": {},
   "outputs": [],
   "source": [
    "import os\n",
    "import numpy as np\n",
    "import pandas as pd\n",
    "import datetime as dt\n",
    "import yfinance as yf\n",
    "import matplotlib.pyplot as plt\n",
    "from scipy.stats import norm"
   ]
  },
  {
   "cell_type": "code",
   "execution_count": 5,
   "metadata": {},
   "outputs": [],
   "source": [
    "from qf.risk import DATA_DIR"
   ]
  },
  {
   "cell_type": "code",
   "execution_count": 6,
   "metadata": {},
   "outputs": [],
   "source": [
    "adj_close_file = os.path.join(DATA_DIR, 'adj_prices.csv')\n",
    "adj_close_df = pd.read_csv(adj_close_file, parse_dates=['Date'], index_col='Date')\n"
   ]
  },
  {
   "cell_type": "code",
   "execution_count": 7,
   "metadata": {},
   "outputs": [],
   "source": [
    "tickers = ['SPY', 'BND', 'GLD', 'QQQ', 'VTI']"
   ]
  },
  {
   "cell_type": "code",
   "execution_count": 13,
   "metadata": {},
   "outputs": [],
   "source": [
    "# display(np.log(1+adj_close_df.pct_change(1)))\n",
    "# display(np.log(adj_close_df/adj_close_df.shift(1)))"
   ]
  },
  {
   "cell_type": "code",
   "execution_count": 14,
   "metadata": {},
   "outputs": [],
   "source": [
    "log_return_df = np.log(adj_close_df/adj_close_df.shift(1))\n",
    "log_return_df = log_return_df.dropna()"
   ]
  },
  {
   "cell_type": "code",
   "execution_count": 15,
   "metadata": {},
   "outputs": [
    {
     "data": {
      "text/plain": [
       "SPY    0\n",
       "BND    0\n",
       "GLD    0\n",
       "QQQ    0\n",
       "VTI    0\n",
       "dtype: int64"
      ]
     },
     "execution_count": 15,
     "metadata": {},
     "output_type": "execute_result"
    }
   ],
   "source": [
    "log_return_df.isna().sum()"
   ]
  },
  {
   "cell_type": "code",
   "execution_count": 16,
   "metadata": {},
   "outputs": [
    {
     "data": {
      "application/vnd.microsoft.datawrangler.viewer.v0+json": {
       "columns": [
        {
         "name": "Date",
         "rawType": "datetime64[ns]",
         "type": "datetime"
        },
        {
         "name": "SPY",
         "rawType": "float64",
         "type": "float"
        },
        {
         "name": "BND",
         "rawType": "float64",
         "type": "float"
        },
        {
         "name": "GLD",
         "rawType": "float64",
         "type": "float"
        },
        {
         "name": "QQQ",
         "rawType": "float64",
         "type": "float"
        },
        {
         "name": "VTI",
         "rawType": "float64",
         "type": "float"
        }
       ],
       "conversionMethod": "pd.DataFrame",
       "ref": "127f2912-4f91-47e3-a587-a5ddd902b6fc",
       "rows": [
        [
         "2009-08-25 00:00:00",
         "0.0019407796841246717",
         "0.0016525561815155419",
         "0.004538157997111119",
         "0.0029773364558179746",
         "0.0019210491229242383"
        ],
        [
         "2009-08-26 00:00:00",
         "9.661261322342895e-05",
         "0.0006361942949577313",
         "0.00032334981476521955",
         "-0.0017353320103897926",
         "-0.0007678418397561886"
        ],
        [
         "2009-08-27 00:00:00",
         "0.002227322946016261",
         "-0.0011442046670304819",
         "0.004301560763973106",
         "0.0024782020545164652",
         "0.0034516639338250847"
        ],
        [
         "2009-08-28 00:00:00",
         "-0.000193682846749966",
         "0.0020317587419341056",
         "0.007270429612602455",
         "0.000989131943004486",
         "-0.0007663601457093046"
        ],
        [
         "2009-08-31 00:00:00",
         "-0.008938983312960292",
         "0.0019017972307015538",
         "-0.005019514036493062",
         "-0.010189373939670694",
         "-0.009624192102686132"
        ]
       ],
       "shape": {
        "columns": 5,
        "rows": 5
       }
      },
      "text/html": [
       "<div>\n",
       "<style scoped>\n",
       "    .dataframe tbody tr th:only-of-type {\n",
       "        vertical-align: middle;\n",
       "    }\n",
       "\n",
       "    .dataframe tbody tr th {\n",
       "        vertical-align: top;\n",
       "    }\n",
       "\n",
       "    .dataframe thead th {\n",
       "        text-align: right;\n",
       "    }\n",
       "</style>\n",
       "<table border=\"1\" class=\"dataframe\">\n",
       "  <thead>\n",
       "    <tr style=\"text-align: right;\">\n",
       "      <th></th>\n",
       "      <th>SPY</th>\n",
       "      <th>BND</th>\n",
       "      <th>GLD</th>\n",
       "      <th>QQQ</th>\n",
       "      <th>VTI</th>\n",
       "    </tr>\n",
       "    <tr>\n",
       "      <th>Date</th>\n",
       "      <th></th>\n",
       "      <th></th>\n",
       "      <th></th>\n",
       "      <th></th>\n",
       "      <th></th>\n",
       "    </tr>\n",
       "  </thead>\n",
       "  <tbody>\n",
       "    <tr>\n",
       "      <th>2009-08-25</th>\n",
       "      <td>0.001941</td>\n",
       "      <td>0.001653</td>\n",
       "      <td>0.004538</td>\n",
       "      <td>0.002977</td>\n",
       "      <td>0.001921</td>\n",
       "    </tr>\n",
       "    <tr>\n",
       "      <th>2009-08-26</th>\n",
       "      <td>0.000097</td>\n",
       "      <td>0.000636</td>\n",
       "      <td>0.000323</td>\n",
       "      <td>-0.001735</td>\n",
       "      <td>-0.000768</td>\n",
       "    </tr>\n",
       "    <tr>\n",
       "      <th>2009-08-27</th>\n",
       "      <td>0.002227</td>\n",
       "      <td>-0.001144</td>\n",
       "      <td>0.004302</td>\n",
       "      <td>0.002478</td>\n",
       "      <td>0.003452</td>\n",
       "    </tr>\n",
       "    <tr>\n",
       "      <th>2009-08-28</th>\n",
       "      <td>-0.000194</td>\n",
       "      <td>0.002032</td>\n",
       "      <td>0.007270</td>\n",
       "      <td>0.000989</td>\n",
       "      <td>-0.000766</td>\n",
       "    </tr>\n",
       "    <tr>\n",
       "      <th>2009-08-31</th>\n",
       "      <td>-0.008939</td>\n",
       "      <td>0.001902</td>\n",
       "      <td>-0.005020</td>\n",
       "      <td>-0.010189</td>\n",
       "      <td>-0.009624</td>\n",
       "    </tr>\n",
       "  </tbody>\n",
       "</table>\n",
       "</div>"
      ],
      "text/plain": [
       "                 SPY       BND       GLD       QQQ       VTI\n",
       "Date                                                        \n",
       "2009-08-25  0.001941  0.001653  0.004538  0.002977  0.001921\n",
       "2009-08-26  0.000097  0.000636  0.000323 -0.001735 -0.000768\n",
       "2009-08-27  0.002227 -0.001144  0.004302  0.002478  0.003452\n",
       "2009-08-28 -0.000194  0.002032  0.007270  0.000989 -0.000766\n",
       "2009-08-31 -0.008939  0.001902 -0.005020 -0.010189 -0.009624"
      ]
     },
     "metadata": {},
     "output_type": "display_data"
    }
   ],
   "source": [
    "display(log_return_df.head())"
   ]
  },
  {
   "cell_type": "markdown",
   "metadata": {},
   "source": [
    "###  Equally Weighted Portfolio\n",
    "Equally weighted portfolio with a total value of 1,000,000"
   ]
  },
  {
   "cell_type": "code",
   "execution_count": 17,
   "metadata": {},
   "outputs": [
    {
     "name": "stdout",
     "output_type": "stream",
     "text": [
      "[0.2 0.2 0.2 0.2 0.2]\n"
     ]
    }
   ],
   "source": [
    "portfolio_value = 1000000\n",
    "weights = np.array([1/len(tickers)]*len(tickers))\n",
    "print(weights)"
   ]
  },
  {
   "cell_type": "code",
   "execution_count": 20,
   "metadata": {},
   "outputs": [
    {
     "data": {
      "text/plain": [
       "Date\n",
       "2009-08-25    0.002606\n",
       "2009-08-26   -0.000289\n",
       "2009-08-27    0.002263\n",
       "2009-08-28    0.001866\n",
       "2009-08-31   -0.006374\n",
       "                ...   \n",
       "2024-08-12    0.004158\n",
       "2024-08-13    0.011912\n",
       "2024-08-14    0.000002\n",
       "2024-08-15    0.011615\n",
       "2024-08-16    0.006041\n",
       "Length: 3770, dtype: float64"
      ]
     },
     "metadata": {},
     "output_type": "display_data"
    }
   ],
   "source": [
    "display((log_return_df * weights).sum(axis=1))\n"
   ]
  },
  {
   "cell_type": "code",
   "execution_count": 18,
   "metadata": {},
   "outputs": [
    {
     "data": {
      "text/plain": [
       "Date\n",
       "2009-08-25    0.002606\n",
       "2009-08-26   -0.000289\n",
       "2009-08-27    0.002263\n",
       "2009-08-28    0.001866\n",
       "2009-08-31   -0.006374\n",
       "                ...   \n",
       "2024-08-12    0.004158\n",
       "2024-08-13    0.011912\n",
       "2024-08-14    0.000002\n",
       "2024-08-15    0.011615\n",
       "2024-08-16    0.006041\n",
       "Length: 3770, dtype: float64"
      ]
     },
     "metadata": {},
     "output_type": "display_data"
    }
   ],
   "source": [
    "hist_returns_df = (log_return_df * weights).sum(axis=1)\n",
    "display(hist_returns_df)"
   ]
  },
  {
   "cell_type": "markdown",
   "metadata": {},
   "source": [
    "### X-Day Historical Returns\n",
    "\n",
    "X-day historical returns. In this example, we’ll use a 50-day window."
   ]
  },
  {
   "cell_type": "code",
   "execution_count": 21,
   "metadata": {},
   "outputs": [
    {
     "data": {
      "text/plain": [
       "Date\n",
       "2009-11-03    0.044489\n",
       "2009-11-04    0.044226\n",
       "2009-11-05    0.056780\n",
       "2009-11-06    0.057627\n",
       "2009-11-09    0.070743\n",
       "                ...   \n",
       "2024-08-12    0.028571\n",
       "2024-08-13    0.037958\n",
       "2024-08-14    0.033774\n",
       "2024-08-15    0.045695\n",
       "2024-08-16    0.040038\n",
       "Length: 3721, dtype: float64"
      ]
     },
     "metadata": {},
     "output_type": "display_data"
    }
   ],
   "source": [
    "days = 50\n",
    "\n",
    "range_returns_df = hist_returns_df.rolling(window = days).sum()\n",
    "range_returns_df = range_returns_df.dropna()\n",
    "\n",
    "display(range_returns_df)"
   ]
  },
  {
   "cell_type": "markdown",
   "metadata": {},
   "source": [
    "### Calculating VaR Using the Historical Method"
   ]
  },
  {
   "cell_type": "code",
   "execution_count": 22,
   "metadata": {},
   "outputs": [
    {
     "name": "stdout",
     "output_type": "stream",
     "text": [
      "109875.15885043364\n"
     ]
    }
   ],
   "source": [
    "confidence_interval = 0.99\n",
    "\n",
    "VaR = -np.percentile(range_returns_df, 100 - (confidence_interval * 100))*portfolio_value\n",
    "print(VaR)"
   ]
  },
  {
   "cell_type": "code",
   "execution_count": 23,
   "metadata": {},
   "outputs": [
    {
     "data": {
      "image/png": "[encoded data removed]",
      "text/plain": [
       "<Figure size 640x480 with 1 Axes>"
      ]
     },
     "metadata": {},
     "output_type": "display_data"
    }
   ],
   "source": [
    "return_window = days\n",
    "range_returns = hist_returns_df.rolling(window=return_window).sum()\n",
    "range_returns = range_returns.dropna()\n",
    "\n",
    "range_returns_portfolio = range_returns * portfolio_value\n",
    "\n",
    "plt.hist(range_returns_portfolio.dropna(), bins=50, density=True)\n",
    "plt.xlabel(f'{return_window}-Day Portfolio Return')\n",
    "plt.ylabel('Frequency')\n",
    "plt.title(f'Distribution of Portfolio {return_window}-Day Returns')\n",
    "plt.axvline(-VaR, color='r', linestyle='dashed', linewidth=2, label=f'VaR at {confidence_interval:.0%} confidence level')\n",
    "plt.legend()\n",
    "plt.show()"
   ]
  },
  {
   "cell_type": "code",
   "execution_count": null,
   "metadata": {},
   "outputs": [],
   "source": []
  }
 ],
 "metadata": {
  "kernelspec": {
   "display_name": "qf",
   "language": "python",
   "name": "python3"
  },
  "language_info": {
   "codemirror_mode": {
    "name": "ipython",
    "version": 3
   },
   "file_extension": ".py",
   "mimetype": "text/x-python",
   "name": "python",
   "nbconvert_exporter": "python",
   "pygments_lexer": "ipython3",
   "version": "3.11.11"
  }
 },
 "nbformat": 4,
 "nbformat_minor": 2
}
