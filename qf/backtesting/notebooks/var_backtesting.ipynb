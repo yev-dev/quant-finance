{
 "cells": [
  {
   "cell_type": "code",
   "execution_count": 4,
   "metadata": {},
   "outputs": [],
   "source": [
    "import os\n",
    "import pandas as pd\n",
    "import numpy as np\n",
    "import matplotlib.pyplot as plt\n",
    "from pathlib import Path\n",
    "import seaborn as sns;\n",
    "\n",
    "sns.set()"
   ]
  },
  {
   "cell_type": "code",
   "execution_count": 5,
   "metadata": {},
   "outputs": [],
   "source": [
    "from qf.risk import DATA_DIR"
   ]
  },
  {
   "cell_type": "markdown",
   "metadata": {},
   "source": [
    "\n",
    "Implement VaR backtesting by computing 99%/10day Value at Risk using the rolling window of 21\n",
    "returns to compute σ.\n",
    "\n",
    "99%/10day Value at Risk for an investment in the market index on the rolling basis\n",
    "VaR10D;t = Factor × σt × p10\n",
    "1. determine factor\n",
    "2. create 10 day log return column\n",
    "x. create column with 10 day returns\n",
    "3. calculate rolling standard deviation over log-returns for observations 1 −21; 2−22; etc\n",
    "4. Compute VaR for each day t, after the initial perio\n",
    "\n"
   ]
  },
  {
   "cell_type": "code",
   "execution_count": 6,
   "metadata": {},
   "outputs": [],
   "source": [
    "\n",
    "filepath = os.path.join(DATA_DIR, 'prices.csv')\n",
    "df = pd.read_csv(filepath)\n",
    "\n",
    "df.rename(columns={'open' : 'price'}, inplace=True)\n",
    "\n",
    "df = df[['date', 'price']]\n",
    "df.columns = ['date', 'price']"
   ]
  },
  {
   "cell_type": "code",
   "execution_count": 7,
   "metadata": {},
   "outputs": [
    {
     "data": {
      "application/vnd.microsoft.datawrangler.viewer.v0+json": {
       "columns": [
        {
         "name": "index",
         "rawType": "int64",
         "type": "integer"
        },
        {
         "name": "date",
         "rawType": "object",
         "type": "string"
        },
        {
         "name": "price",
         "rawType": "float64",
         "type": "float"
        }
       ],
       "conversionMethod": "pd.DataFrame",
       "ref": "faf3df37-fc64-4913-bf80-4a88bf4fc869",
       "rows": [
        [
         "0",
         "2020-10-27",
         "115.1190740661014"
        ],
        [
         "1",
         "2020-10-28",
         "114.68049055616363"
        ],
        [
         "2",
         "2020-10-29",
         "112.00909331617945"
        ],
        [
         "3",
         "2020-10-30",
         "110.70329164826492"
        ],
        [
         "4",
         "2020-11-02",
         "108.75956625545084"
        ]
       ],
       "shape": {
        "columns": 2,
        "rows": 5
       }
      },
      "text/html": [
       "<div>\n",
       "<style scoped>\n",
       "    .dataframe tbody tr th:only-of-type {\n",
       "        vertical-align: middle;\n",
       "    }\n",
       "\n",
       "    .dataframe tbody tr th {\n",
       "        vertical-align: top;\n",
       "    }\n",
       "\n",
       "    .dataframe thead th {\n",
       "        text-align: right;\n",
       "    }\n",
       "</style>\n",
       "<table border=\"1\" class=\"dataframe\">\n",
       "  <thead>\n",
       "    <tr style=\"text-align: right;\">\n",
       "      <th></th>\n",
       "      <th>date</th>\n",
       "      <th>price</th>\n",
       "    </tr>\n",
       "  </thead>\n",
       "  <tbody>\n",
       "    <tr>\n",
       "      <th>0</th>\n",
       "      <td>2020-10-27</td>\n",
       "      <td>115.119074</td>\n",
       "    </tr>\n",
       "    <tr>\n",
       "      <th>1</th>\n",
       "      <td>2020-10-28</td>\n",
       "      <td>114.680491</td>\n",
       "    </tr>\n",
       "    <tr>\n",
       "      <th>2</th>\n",
       "      <td>2020-10-29</td>\n",
       "      <td>112.009093</td>\n",
       "    </tr>\n",
       "    <tr>\n",
       "      <th>3</th>\n",
       "      <td>2020-10-30</td>\n",
       "      <td>110.703292</td>\n",
       "    </tr>\n",
       "    <tr>\n",
       "      <th>4</th>\n",
       "      <td>2020-11-02</td>\n",
       "      <td>108.759566</td>\n",
       "    </tr>\n",
       "  </tbody>\n",
       "</table>\n",
       "</div>"
      ],
      "text/plain": [
       "         date       price\n",
       "0  2020-10-27  115.119074\n",
       "1  2020-10-28  114.680491\n",
       "2  2020-10-29  112.009093\n",
       "3  2020-10-30  110.703292\n",
       "4  2020-11-02  108.759566"
      ]
     },
     "metadata": {},
     "output_type": "display_data"
    }
   ],
   "source": [
    "display(df.head())"
   ]
  },
  {
   "cell_type": "code",
   "execution_count": null,
   "metadata": {},
   "outputs": [],
   "source": [
    "# calculate variables\n",
    "df['log_return_1d'] = np.log(1 + df.price.pct_change(1)).astype(float)\n",
    "df['log_return_shifted'] = df['log_return_1d'].shift(1)\n",
    "df['log_return_10d'] = np.log(1 + df.price.pct_change(10))\n",
    "df['20d_rolling_std'] = df['log_return_1d'].rolling(21).std()\n",
    "df['VaR'] = -(df['20d_rolling_std'] * 2.33 * np.sqrt(10))\n",
    "df['breach'] = np.where(df['VaR'] > df['log_return_10d'], 1, 0)\n",
    "df['consecutive_breach'] = np.where((df['breach'].shift(1) == 1) & (df['breach'] == 1), 1, 0)"
   ]
  },
  {
   "cell_type": "code",
   "execution_count": 12,
   "metadata": {},
   "outputs": [
    {
     "data": {
      "application/vnd.microsoft.datawrangler.viewer.v0+json": {
       "columns": [
        {
         "name": "index",
         "rawType": "int64",
         "type": "integer"
        },
        {
         "name": "date",
         "rawType": "object",
         "type": "string"
        },
        {
         "name": "price",
         "rawType": "float64",
         "type": "float"
        },
        {
         "name": "log_return_1d",
         "rawType": "float64",
         "type": "float"
        },
        {
         "name": "log_return_shifted",
         "rawType": "float64",
         "type": "float"
        },
        {
         "name": "log_return_10d",
         "rawType": "float64",
         "type": "float"
        },
        {
         "name": "20d_rolling_std",
         "rawType": "float64",
         "type": "float"
        },
        {
         "name": "VaR",
         "rawType": "float64",
         "type": "float"
        },
        {
         "name": "breach",
         "rawType": "int64",
         "type": "integer"
        },
        {
         "name": "consecutive_breach",
         "rawType": "int64",
         "type": "integer"
        }
       ],
       "conversionMethod": "pd.DataFrame",
       "ref": "408834cd-76a1-405b-9899-09893beb0f82",
       "rows": [
        [
         "0",
         "2020-10-27",
         "115.1190740661014",
         null,
         null,
         null,
         null,
         null,
         "0",
         "0"
        ],
        [
         "1",
         "2020-10-28",
         "114.68049055616363",
         "-0.003817100725856293",
         null,
         null,
         null,
         null,
         "0",
         "0"
        ],
        [
         "2",
         "2020-10-29",
         "112.00909331617945",
         "-0.02356986029233254",
         "-0.003817100725856293",
         null,
         null,
         null,
         "0",
         "0"
        ],
        [
         "3",
         "2020-10-30",
         "110.70329164826492",
         "-0.011726484196508586",
         "-0.02356986029233254",
         null,
         null,
         null,
         "0",
         "0"
        ],
        [
         "4",
         "2020-11-02",
         "108.75956625545084",
         "-0.017713942458447013",
         "-0.011726484196508586",
         null,
         null,
         null,
         "0",
         "0"
        ],
        [
         "5",
         "2020-11-03",
         "109.30779543806835",
         "0.0050280824546075475",
         "-0.017713942458447013",
         null,
         null,
         null,
         "0",
         "0"
        ],
        [
         "6",
         "2020-11-04",
         "113.77340689234912",
         "0.04004109741808658",
         "0.0050280824546075475",
         null,
         null,
         null,
         "0",
         "0"
        ],
        [
         "7",
         "2020-11-05",
         "117.5711643746384",
         "0.0328349929618319",
         "0.04004109741808658",
         null,
         null,
         null,
         "0",
         "0"
        ],
        [
         "8",
         "2020-11-06",
         "118.1434582580711",
         "0.004855829490371703",
         "0.0328349929618319",
         null,
         null,
         null,
         "0",
         "0"
        ],
        [
         "9",
         "2020-11-09",
         "120.32020192446754",
         "0.018256904436429716",
         "0.004855829490371703",
         null,
         null,
         null,
         "0",
         "0"
        ],
        [
         "10",
         "2020-11-10",
         "115.37759504795174",
         "-0.04194635356873358",
         "0.018256904436429716",
         "0.0022431655194494124",
         null,
         null,
         "0",
         "0"
        ],
        [
         "11",
         "2020-11-11",
         "117.01514294945322",
         "0.014093168481211097",
         "-0.04194635356873358",
         "0.02015343472651669",
         null,
         null,
         "0",
         "0"
        ],
        [
         "12",
         "2020-11-12",
         "119.44151928129745",
         "0.020523519846471546",
         "0.014093168481211097",
         "0.06424681486532106",
         null,
         null,
         "0",
         "0"
        ],
        [
         "13",
         "2020-11-13",
         "119.26178586467934",
         "-0.0015059150561364295",
         "0.020523519846471546",
         "0.07446738400569315",
         null,
         null,
         "0",
         "0"
        ],
        [
         "14",
         "2020-11-16",
         "118.74256047617811",
         "-0.004363165800968205",
         "-0.0015059150561364295",
         "0.08781816066317183",
         null,
         null,
         "0",
         "0"
        ],
        [
         "15",
         "2020-11-17",
         "119.3716255815181",
         "0.0052837386908256385",
         "-0.004363165800968205",
         "0.08807381689938999",
         null,
         null,
         "0",
         "0"
        ],
        [
         "16",
         "2020-11-18",
         "118.43302589161148",
         "-0.007893912571244123",
         "0.0052837386908256385",
         "0.040138806910059284",
         null,
         null,
         "0",
         "0"
        ],
        [
         "17",
         "2020-11-19",
         "117.41454578657738",
         "-0.008636819356470414",
         "-0.007893912571244123",
         "-0.001333005408242971",
         null,
         null,
         "0",
         "0"
        ],
        [
         "18",
         "2020-11-20",
         "118.46298034997209",
         "0.00888971056384426",
         "-0.008636819356470414",
         "0.00270087566522954",
         null,
         null,
         "0",
         "0"
        ],
        [
         "19",
         "2020-11-23",
         "117.005155495721",
         "-0.012382511764586013",
         "0.00888971056384426",
         "-0.027938540535786153",
         null,
         null,
         "0",
         "0"
        ],
        [
         "20",
         "2020-11-24",
         "113.74003921014096",
         "-0.02830251127951858",
         "-0.012382511764586013",
         "-0.014294698246571216",
         null,
         null,
         "0",
         "0"
        ],
        [
         "21",
         "2020-11-25",
         "115.37759302382496",
         "0.014294680703071454",
         "-0.02830251127951858",
         "-0.014093186024710743",
         "0.019859441688708797",
         "-0.1463264902937956",
         "0",
         "0"
        ],
        [
         "22",
         "2020-11-27",
         "116.39606407797456",
         "0.008788553646026086",
         "0.014294680703071454",
         "-0.025828152225156283",
         "0.019925306934500595",
         "-0.14681179246895854",
         "0",
         "0"
        ],
        [
         "23",
         "2020-11-30",
         "116.79546961050283",
         "0.0034255610980234545",
         "0.008788553646026086",
         "-0.02089667607099625",
         "0.019135927741428846",
         "-0.14099556215172812",
         "0",
         "0"
        ],
        [
         "24",
         "2020-12-01",
         "120.82944808681562",
         "0.03395574928483412",
         "0.0034255610980234545",
         "0.01742223901480621",
         "0.020072034395372192",
         "-0.14789289609289719",
         "0",
         "0"
        ],
        [
         "25",
         "2020-12-02",
         "121.8379311166106",
         "0.00831169676749328",
         "0.03395574928483412",
         "0.02045019709147363",
         "0.019447148815971524",
         "-0.1432886723134899",
         "0",
         "0"
        ],
        [
         "26",
         "2020-12-03",
         "123.33569772574728",
         "0.012218159422821114",
         "0.00831169676749328",
         "0.04056226908553894",
         "0.019503352268194645",
         "-0.1437027853603275",
         "0",
         "0"
        ],
        [
         "27",
         "2020-12-04",
         "122.41707269315071",
         "-0.007476044397121029",
         "0.012218159422821114",
         "0.04172304404488832",
         "0.01802652271924747",
         "-0.1328213472994341",
         "0",
         "0"
        ],
        [
         "28",
         "2020-12-07",
         "122.12749957084807",
         "-0.0023682656700607894",
         "-0.007476044397121029",
         "0.030465067810983237",
         "0.01675271685913133",
         "-0.12343580949086423",
         "0",
         "0"
        ],
        [
         "29",
         "2020-12-08",
         "124.1844326372224",
         "0.016702243089837844",
         "-0.0023682656700607894",
         "0.059549822665407044",
         "0.017057075143143308",
         "-0.12567835387803278",
         "0",
         "0"
        ],
        [
         "30",
         "2020-12-09",
         "124.34418618418464",
         "0.0012855949525863593",
         "0.016702243089837844",
         "0.08913792889751206",
         "0.016664485678084942",
         "-0.12278571271274914",
         "0",
         "0"
        ],
        [
         "31",
         "2020-12-10",
         "120.32020462303925",
         "-0.03289685465395637",
         "0.0012855949525863593",
         "0.04194639354048419",
         "0.015563669288521743",
         "-0.11467477982412455",
         "0",
         "0"
        ],
        [
         "32",
         "2020-12-11",
         "122.24732276314924",
         "0.015889667570246742",
         "-0.03289685465395637",
         "0.04904750746470489",
         "0.015638237855352594",
         "-0.11522420899950768",
         "0",
         "0"
        ],
        [
         "33",
         "2020-12-14",
         "122.4170656539128",
         "0.0013875572092515494",
         "0.015889667570246742",
         "0.04700950357593285",
         "0.015056697714187987",
         "-0.11093935904474",
         "0",
         "0"
        ],
        [
         "34",
         "2020-12-15",
         "124.15446725515407",
         "0.014092708394076512",
         "0.0013875572092515494",
         "0.027146462685175253",
         "0.015300780093032759",
         "-0.11273778411623746",
         "0",
         "0"
        ],
        [
         "35",
         "2020-12-16",
         "127.21989614432093",
         "0.02439056087264985",
         "0.014092708394076512",
         "0.04322532679033201",
         "0.015982284713230623",
         "-0.11775918304354253",
         "0",
         "0"
        ],
        [
         "36",
         "2020-12-17",
         "128.7076636228698",
         "0.011626604335291765",
         "0.02439056087264985",
         "0.04263377170280252",
         "0.016081597620060492",
         "-0.11849093116240086",
         "0",
         "0"
        ],
        [
         "37",
         "2020-12-18",
         "128.76758717751528",
         "0.0004654704134950917",
         "0.011626604335291765",
         "0.05057528651341853",
         "0.01588549723809389",
         "-0.11704604257548958",
         "0",
         "0"
        ],
        [
         "38",
         "2020-12-21",
         "124.83345627606444",
         "-0.031028630508335545",
         "0.0004654704134950917",
         "0.021914921675143927",
         "0.01744949639593562",
         "-0.12856975563735015",
         "0",
         "0"
        ],
        [
         "39",
         "2020-12-22",
         "131.413626138315",
         "0.051369301213163986",
         "-0.031028630508335545",
         "0.05658197979847001",
         "0.020390769989394694",
         "-0.15024137403785057",
         "0",
         "0"
        ],
        [
         "40",
         "2020-12-23",
         "131.96280910651203",
         "0.00417033333768697",
         "0.051369301213163986",
         "0.05946671818357089",
         "0.0200039132180639",
         "-0.1473909719730529",
         "0",
         "0"
        ],
        [
         "41",
         "2020-12-24",
         "131.12406251826343",
         "-0.006376216530682437",
         "0.00417033333768697",
         "0.0859873563068447",
         "0.018666339054918483",
         "-0.13753558248785863",
         "0",
         "0"
        ],
        [
         "42",
         "2020-12-28",
         "133.7900850619683",
         "0.020128125108680124",
         "-0.006376216530682437",
         "0.09022581384527815",
         "0.018826590327096823",
         "-0.1387163309998525",
         "0",
         "0"
        ],
        [
         "43",
         "2020-12-29",
         "137.84402540760468",
         "0.02985075300017419",
         "0.020128125108680124",
         "0.1186890096362008",
         "0.019473717457499408",
         "-0.14348443290573556",
         "0",
         "0"
        ],
        [
         "44",
         "2020-12-30",
         "135.37770259402348",
         "-0.018054126390710207",
         "0.02985075300017419",
         "0.08654217485141397",
         "0.020276506864225607",
         "-0.14939947111137006",
         "0",
         "0"
        ],
        [
         "45",
         "2020-12-31",
         "133.87994506641033",
         "-0.01112520285855144",
         "-0.018054126390710207",
         "0.05102641112021254",
         "0.01966041196931579",
         "-0.14486001803543921",
         "0",
         "0"
        ],
        [
         "46",
         "2021-01-04",
         "133.32078727623104",
         "-0.004185307439076923",
         "-0.01112520285855144",
         "0.035214499345843926",
         "0.019740442782927622",
         "-0.14544969362928206",
         "0",
         "0"
        ],
        [
         "47",
         "2021-01-05",
         "128.69768229308588",
         "-0.03529205274515979",
         "-0.004185307439076923",
         "-0.0005430238128109914",
         "0.021435941181771438",
         "-0.1579423071624521",
         "0",
         "0"
        ],
        [
         "48",
         "2021-01-06",
         "127.52943391794884",
         "-0.00911891362503379",
         "-0.03529205274515979",
         "0.021366693070490765",
         "0.02147531700932173",
         "-0.15823243247101626",
         "0",
         "0"
        ],
        [
         "49",
         "2021-01-07",
         "128.1684773121065",
         "0.004998435236253401",
         "-0.00911891362503379",
         "-0.02500417290641991",
         "0.021461444338669308",
         "-0.15813021714999215",
         "0",
         "0"
        ]
       ],
       "shape": {
        "columns": 9,
        "rows": 1240
       }
      },
      "text/html": [
       "<div>\n",
       "<style scoped>\n",
       "    .dataframe tbody tr th:only-of-type {\n",
       "        vertical-align: middle;\n",
       "    }\n",
       "\n",
       "    .dataframe tbody tr th {\n",
       "        vertical-align: top;\n",
       "    }\n",
       "\n",
       "    .dataframe thead th {\n",
       "        text-align: right;\n",
       "    }\n",
       "</style>\n",
       "<table border=\"1\" class=\"dataframe\">\n",
       "  <thead>\n",
       "    <tr style=\"text-align: right;\">\n",
       "      <th></th>\n",
       "      <th>date</th>\n",
       "      <th>price</th>\n",
       "      <th>log_return_1d</th>\n",
       "      <th>log_return_shifted</th>\n",
       "      <th>log_return_10d</th>\n",
       "      <th>20d_rolling_std</th>\n",
       "      <th>VaR</th>\n",
       "      <th>breach</th>\n",
       "      <th>consecutive_breach</th>\n",
       "    </tr>\n",
       "  </thead>\n",
       "  <tbody>\n",
       "    <tr>\n",
       "      <th>0</th>\n",
       "      <td>2020-10-27</td>\n",
       "      <td>115.119074</td>\n",
       "      <td>NaN</td>\n",
       "      <td>NaN</td>\n",
       "      <td>NaN</td>\n",
       "      <td>NaN</td>\n",
       "      <td>NaN</td>\n",
       "      <td>0</td>\n",
       "      <td>0</td>\n",
       "    </tr>\n",
       "    <tr>\n",
       "      <th>1</th>\n",
       "      <td>2020-10-28</td>\n",
       "      <td>114.680491</td>\n",
       "      <td>-0.003817</td>\n",
       "      <td>NaN</td>\n",
       "      <td>NaN</td>\n",
       "      <td>NaN</td>\n",
       "      <td>NaN</td>\n",
       "      <td>0</td>\n",
       "      <td>0</td>\n",
       "    </tr>\n",
       "    <tr>\n",
       "      <th>2</th>\n",
       "      <td>2020-10-29</td>\n",
       "      <td>112.009093</td>\n",
       "      <td>-0.023570</td>\n",
       "      <td>-0.003817</td>\n",
       "      <td>NaN</td>\n",
       "      <td>NaN</td>\n",
       "      <td>NaN</td>\n",
       "      <td>0</td>\n",
       "      <td>0</td>\n",
       "    </tr>\n",
       "    <tr>\n",
       "      <th>3</th>\n",
       "      <td>2020-10-30</td>\n",
       "      <td>110.703292</td>\n",
       "      <td>-0.011726</td>\n",
       "      <td>-0.023570</td>\n",
       "      <td>NaN</td>\n",
       "      <td>NaN</td>\n",
       "      <td>NaN</td>\n",
       "      <td>0</td>\n",
       "      <td>0</td>\n",
       "    </tr>\n",
       "    <tr>\n",
       "      <th>4</th>\n",
       "      <td>2020-11-02</td>\n",
       "      <td>108.759566</td>\n",
       "      <td>-0.017714</td>\n",
       "      <td>-0.011726</td>\n",
       "      <td>NaN</td>\n",
       "      <td>NaN</td>\n",
       "      <td>NaN</td>\n",
       "      <td>0</td>\n",
       "      <td>0</td>\n",
       "    </tr>\n",
       "    <tr>\n",
       "      <th>...</th>\n",
       "      <td>...</td>\n",
       "      <td>...</td>\n",
       "      <td>...</td>\n",
       "      <td>...</td>\n",
       "      <td>...</td>\n",
       "      <td>...</td>\n",
       "      <td>...</td>\n",
       "      <td>...</td>\n",
       "      <td>...</td>\n",
       "    </tr>\n",
       "    <tr>\n",
       "      <th>1235</th>\n",
       "      <td>2021-04-20</td>\n",
       "      <td>515.289978</td>\n",
       "      <td>-0.015100</td>\n",
       "      <td>-0.002062</td>\n",
       "      <td>0.045601</td>\n",
       "      <td>0.016811</td>\n",
       "      <td>-0.123862</td>\n",
       "      <td>0</td>\n",
       "      <td>0</td>\n",
       "    </tr>\n",
       "    <tr>\n",
       "      <th>1236</th>\n",
       "      <td>2021-04-21</td>\n",
       "      <td>515.020020</td>\n",
       "      <td>-0.000524</td>\n",
       "      <td>-0.015100</td>\n",
       "      <td>0.043737</td>\n",
       "      <td>0.016855</td>\n",
       "      <td>-0.124193</td>\n",
       "      <td>0</td>\n",
       "      <td>0</td>\n",
       "    </tr>\n",
       "    <tr>\n",
       "      <th>1237</th>\n",
       "      <td>2021-04-22</td>\n",
       "      <td>508.079987</td>\n",
       "      <td>-0.013567</td>\n",
       "      <td>-0.000524</td>\n",
       "      <td>0.015711</td>\n",
       "      <td>0.016724</td>\n",
       "      <td>-0.123224</td>\n",
       "      <td>0</td>\n",
       "      <td>0</td>\n",
       "    </tr>\n",
       "    <tr>\n",
       "      <th>1238</th>\n",
       "      <td>2021-04-23</td>\n",
       "      <td>508.790009</td>\n",
       "      <td>0.001396</td>\n",
       "      <td>-0.013567</td>\n",
       "      <td>0.020693</td>\n",
       "      <td>0.016544</td>\n",
       "      <td>-0.121900</td>\n",
       "      <td>0</td>\n",
       "      <td>0</td>\n",
       "    </tr>\n",
       "    <tr>\n",
       "      <th>1239</th>\n",
       "      <td>2021-04-26</td>\n",
       "      <td>513.570007</td>\n",
       "      <td>0.009351</td>\n",
       "      <td>0.001396</td>\n",
       "      <td>0.028199</td>\n",
       "      <td>0.013743</td>\n",
       "      <td>-0.101261</td>\n",
       "      <td>0</td>\n",
       "      <td>0</td>\n",
       "    </tr>\n",
       "  </tbody>\n",
       "</table>\n",
       "<p>1240 rows × 9 columns</p>\n",
       "</div>"
      ],
      "text/plain": [
       "            date       price  log_return_1d  log_return_shifted  \\\n",
       "0     2020-10-27  115.119074            NaN                 NaN   \n",
       "1     2020-10-28  114.680491      -0.003817                 NaN   \n",
       "2     2020-10-29  112.009093      -0.023570           -0.003817   \n",
       "3     2020-10-30  110.703292      -0.011726           -0.023570   \n",
       "4     2020-11-02  108.759566      -0.017714           -0.011726   \n",
       "...          ...         ...            ...                 ...   \n",
       "1235  2021-04-20  515.289978      -0.015100           -0.002062   \n",
       "1236  2021-04-21  515.020020      -0.000524           -0.015100   \n",
       "1237  2021-04-22  508.079987      -0.013567           -0.000524   \n",
       "1238  2021-04-23  508.790009       0.001396           -0.013567   \n",
       "1239  2021-04-26  513.570007       0.009351            0.001396   \n",
       "\n",
       "      log_return_10d  20d_rolling_std       VaR  breach  consecutive_breach  \n",
       "0                NaN              NaN       NaN       0                   0  \n",
       "1                NaN              NaN       NaN       0                   0  \n",
       "2                NaN              NaN       NaN       0                   0  \n",
       "3                NaN              NaN       NaN       0                   0  \n",
       "4                NaN              NaN       NaN       0                   0  \n",
       "...              ...              ...       ...     ...                 ...  \n",
       "1235        0.045601         0.016811 -0.123862       0                   0  \n",
       "1236        0.043737         0.016855 -0.124193       0                   0  \n",
       "1237        0.015711         0.016724 -0.123224       0                   0  \n",
       "1238        0.020693         0.016544 -0.121900       0                   0  \n",
       "1239        0.028199         0.013743 -0.101261       0                   0  \n",
       "\n",
       "[1240 rows x 9 columns]"
      ]
     },
     "metadata": {},
     "output_type": "display_data"
    }
   ],
   "source": [
    "display(df)"
   ]
  },
  {
   "cell_type": "code",
   "execution_count": 13,
   "metadata": {},
   "outputs": [
    {
     "name": "stdout",
     "output_type": "stream",
     "text": [
      "The number of VaR breaches is 4. This is 0.3225806451612903 percent\n",
      "The number of consecutive breaches is 2\n"
     ]
    }
   ],
   "source": [
    "# 3.A.1 report the percentage of VaR breaches\n",
    "pct_breach = (len(df[df['breach'] == 1]) / len(df)) * 100\n",
    "print('The number of VaR breaches is {}. This is {} percent'.format(len(df[df['breach'] == 1]), pct_breach))\n",
    "\n",
    "# 3.A.2: report the number of consecutive breaches\n",
    "print('The number of consecutive breaches is {}'.format(df['consecutive_breach'].sum()))"
   ]
  },
  {
   "cell_type": "code",
   "execution_count": 6,
   "metadata": {},
   "outputs": [
    {
     "data": {
      "image/png": "[encoded data removed]",
      "text/plain": [
       "<Figure size 640x480 with 1 Axes>"
      ]
     },
     "metadata": {},
     "output_type": "display_data"
    }
   ],
   "source": [
    "# 3.A.3: Provide a plot which clearly identifies breaches\n",
    "plt.plot(df['log_return_10d'], label='10 day log returns')\n",
    "plt.plot(df['VaR'], label='99%/10 day VaR using rolling 21 day std')\n",
    "plt.scatter(df[df['breach'] == 1].index, df[df['breach'] == 1]['log_return_10d'], color='red', label='VaR breach')\n",
    "plt.legend()\n",
    "plt.title('10 day log returns and VaR using 21 day std')\n",
    "plt.grid(True)\n",
    "plt.tight_layout()\n",
    "plt.show()"
   ]
  },
  {
   "cell_type": "code",
   "execution_count": 14,
   "metadata": {},
   "outputs": [],
   "source": [
    "ewma_lambda = 0.72\n",
    "ewma_lambda_21d_series = np.array([(1 - ewma_lambda) * (ewma_lambda ** x) for x in range(21, 0, -1)])\n",
    "df['squared_1d_logreturns'] = (df['log_return_1d'].astype(float) ** 2)"
   ]
  },
  {
   "cell_type": "code",
   "execution_count": 15,
   "metadata": {},
   "outputs": [],
   "source": [
    "def ewma_product(logrtns):\n",
    "    out = sum(np.array(logrtns) * ewma_lambda_21d_series) * 250\n",
    "    return out\n"
   ]
  },
  {
   "cell_type": "code",
   "execution_count": null,
   "metadata": {},
   "outputs": [
    {
     "name": "stdout",
     "output_type": "stream",
     "text": [
      "The number of VaR breaches using EWMA is 0. This is 0.0 percent\n",
      "The number of consecutive breaches using ewma is 0\n"
     ]
    },
    {
     "data": {
      "image/png": "[encoded data removed]",
      "text/plain": [
       "<Figure size 640x480 with 1 Axes>"
      ]
     },
     "metadata": {},
     "output_type": "display_data"
    }
   ],
   "source": [
    "df['ewma_std'] = df['squared_1d_logreturns'].rolling(21).apply(ewma_product, raw=True)\n",
    "df['ewma_VaR'] = -(df['ewma_std'] * 2.33 * np.sqrt(10))\n",
    "df['ewma_breach'] = np.where(df['ewma_VaR'] > df['log_return_10d'], 1, 0)\n",
    "df['ewma_consecutive_breach'] = np.where((df['ewma_breach'].shift(1) == 1) & (df['ewma_breach'] == 1), 1, 0)\n",
    "\n",
    "# Report the percentage of VaR breaches\n",
    "pct_breach = (len(df[df['ewma_breach'] == 1]) / len(df)) * 100\n",
    "print('The number of VaR breaches using EWMA is {}. This is {} percent'.format(len(df[df['ewma_breach'] == 1]),\n",
    "                                                                               pct_breach))\n",
    "\n",
    "# Report the number of consecutive breaches\n",
    "print('The number of consecutive breaches using ewma is {}'.format(df['ewma_consecutive_breach'].sum()))\n",
    "\n",
    "# 3.B.3: Provide a plot which clearly identifies breaches\n",
    "plt.plot(df['log_return_10d'], label='10 day log returns')\n",
    "plt.plot(df['ewma_VaR'], label='99%/10 day VaR using ewma std')\n",
    "plt.scatter(df[df['ewma_breach'] == 1].index, df[df['ewma_breach'] == 1]['log_return_10d'], color='red',\n",
    "            label='VaR breach')\n",
    "plt.legend()\n",
    "plt.title('10 day log returns and VaR using EWMA')\n",
    "plt.grid(True)\n",
    "plt.show()"
   ]
  },
  {
   "cell_type": "code",
   "execution_count": null,
   "metadata": {},
   "outputs": [],
   "source": []
  }
 ],
 "metadata": {
  "kernelspec": {
   "display_name": "qf",
   "language": "python",
   "name": "python3"
  },
  "language_info": {
   "codemirror_mode": {
    "name": "ipython",
    "version": 3
   },
   "file_extension": ".py",
   "mimetype": "text/x-python",
   "name": "python",
   "nbconvert_exporter": "python",
   "pygments_lexer": "ipython3",
   "version": "3.11.11"
  }
 },
 "nbformat": 4,
 "nbformat_minor": 2
}
