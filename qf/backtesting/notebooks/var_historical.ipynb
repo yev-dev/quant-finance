{
 "cells": [
  {
   "cell_type": "markdown",
   "metadata": {},
   "source": [
    "### Value at Risk (VaR) Analysis using the Historical Method"
   ]
  },
  {
   "cell_type": "code",
   "execution_count": 26,
   "metadata": {},
   "outputs": [],
   "source": [
    "import os\n",
    "import numpy as np\n",
    "import pandas as pd\n",
    "import datetime as dt\n",
    "import yfinance as yf\n",
    "import matplotlib.pyplot as plt\n",
    "from scipy.stats import norm"
   ]
  },
  {
   "cell_type": "code",
   "execution_count": 27,
   "metadata": {},
   "outputs": [],
   "source": [
    "from qf.risk import DATA_DIR"
   ]
  },
  {
   "cell_type": "code",
   "execution_count": 28,
   "metadata": {},
   "outputs": [],
   "source": [
    "adj_close_file = os.path.join(DATA_DIR, 'adj_prices.csv')\n",
    "adj_close_df = pd.read_csv(adj_close_file, parse_dates=['Date'], index_col='Date')\n"
   ]
  },
  {
   "cell_type": "code",
   "execution_count": 29,
   "metadata": {},
   "outputs": [],
   "source": [
    "tickers = ['SPY', 'BND', 'GLD', 'QQQ', 'VTI']"
   ]
  },
  {
   "cell_type": "code",
   "execution_count": 30,
   "metadata": {},
   "outputs": [],
   "source": [
    "# display(np.log(1+adj_close_df.pct_change(1)))\n",
    "# display(np.log(adj_close_df/adj_close_df.shift(1)))"
   ]
  },
  {
   "cell_type": "code",
   "execution_count": 31,
   "metadata": {},
   "outputs": [],
   "source": [
    "log_return_df = np.log(adj_close_df/adj_close_df.shift(1))\n",
    "log_return_df = log_return_df.dropna()"
   ]
  },
  {
   "cell_type": "code",
   "execution_count": 33,
   "metadata": {},
   "outputs": [
    {
     "data": {
      "application/vnd.microsoft.datawrangler.viewer.v0+json": {
       "columns": [
        {
         "name": "Date",
         "rawType": "datetime64[ns]",
         "type": "datetime"
        },
        {
         "name": "SPY",
         "rawType": "float64",
         "type": "float"
        },
        {
         "name": "BND",
         "rawType": "float64",
         "type": "float"
        },
        {
         "name": "GLD",
         "rawType": "float64",
         "type": "float"
        },
        {
         "name": "QQQ",
         "rawType": "float64",
         "type": "float"
        },
        {
         "name": "VTI",
         "rawType": "float64",
         "type": "float"
        }
       ],
       "conversionMethod": "pd.DataFrame",
       "ref": "a037e973-2658-4b03-85bb-fb01d545844c",
       "rows": [
        [
         "2009-08-25 00:00:00",
         "0.0019407796841246717",
         "0.0016525561815155419",
         "0.004538157997111119",
         "0.0029773364558179746",
         "0.0019210491229242383"
        ],
        [
         "2009-08-26 00:00:00",
         "9.661261322342895e-05",
         "0.0006361942949577313",
         "0.00032334981476521955",
         "-0.0017353320103897926",
         "-0.0007678418397561886"
        ],
        [
         "2009-08-27 00:00:00",
         "0.002227322946016261",
         "-0.0011442046670304819",
         "0.004301560763973106",
         "0.0024782020545164652",
         "0.0034516639338250847"
        ],
        [
         "2009-08-28 00:00:00",
         "-0.000193682846749966",
         "0.0020317587419341056",
         "0.007270429612602455",
         "0.000989131943004486",
         "-0.0007663601457093046"
        ],
        [
         "2009-08-31 00:00:00",
         "-0.008938983312960292",
         "0.0019017972307015538",
         "-0.005019514036493062",
         "-0.010189373939670694",
         "-0.009624192102686132"
        ]
       ],
       "shape": {
        "columns": 5,
        "rows": 5
       }
      },
      "text/html": [
       "<div>\n",
       "<style scoped>\n",
       "    .dataframe tbody tr th:only-of-type {\n",
       "        vertical-align: middle;\n",
       "    }\n",
       "\n",
       "    .dataframe tbody tr th {\n",
       "        vertical-align: top;\n",
       "    }\n",
       "\n",
       "    .dataframe thead th {\n",
       "        text-align: right;\n",
       "    }\n",
       "</style>\n",
       "<table border=\"1\" class=\"dataframe\">\n",
       "  <thead>\n",
       "    <tr style=\"text-align: right;\">\n",
       "      <th></th>\n",
       "      <th>SPY</th>\n",
       "      <th>BND</th>\n",
       "      <th>GLD</th>\n",
       "      <th>QQQ</th>\n",
       "      <th>VTI</th>\n",
       "    </tr>\n",
       "    <tr>\n",
       "      <th>Date</th>\n",
       "      <th></th>\n",
       "      <th></th>\n",
       "      <th></th>\n",
       "      <th></th>\n",
       "      <th></th>\n",
       "    </tr>\n",
       "  </thead>\n",
       "  <tbody>\n",
       "    <tr>\n",
       "      <th>2009-08-25</th>\n",
       "      <td>0.001941</td>\n",
       "      <td>0.001653</td>\n",
       "      <td>0.004538</td>\n",
       "      <td>0.002977</td>\n",
       "      <td>0.001921</td>\n",
       "    </tr>\n",
       "    <tr>\n",
       "      <th>2009-08-26</th>\n",
       "      <td>0.000097</td>\n",
       "      <td>0.000636</td>\n",
       "      <td>0.000323</td>\n",
       "      <td>-0.001735</td>\n",
       "      <td>-0.000768</td>\n",
       "    </tr>\n",
       "    <tr>\n",
       "      <th>2009-08-27</th>\n",
       "      <td>0.002227</td>\n",
       "      <td>-0.001144</td>\n",
       "      <td>0.004302</td>\n",
       "      <td>0.002478</td>\n",
       "      <td>0.003452</td>\n",
       "    </tr>\n",
       "    <tr>\n",
       "      <th>2009-08-28</th>\n",
       "      <td>-0.000194</td>\n",
       "      <td>0.002032</td>\n",
       "      <td>0.007270</td>\n",
       "      <td>0.000989</td>\n",
       "      <td>-0.000766</td>\n",
       "    </tr>\n",
       "    <tr>\n",
       "      <th>2009-08-31</th>\n",
       "      <td>-0.008939</td>\n",
       "      <td>0.001902</td>\n",
       "      <td>-0.005020</td>\n",
       "      <td>-0.010189</td>\n",
       "      <td>-0.009624</td>\n",
       "    </tr>\n",
       "  </tbody>\n",
       "</table>\n",
       "</div>"
      ],
      "text/plain": [
       "                 SPY       BND       GLD       QQQ       VTI\n",
       "Date                                                        \n",
       "2009-08-25  0.001941  0.001653  0.004538  0.002977  0.001921\n",
       "2009-08-26  0.000097  0.000636  0.000323 -0.001735 -0.000768\n",
       "2009-08-27  0.002227 -0.001144  0.004302  0.002478  0.003452\n",
       "2009-08-28 -0.000194  0.002032  0.007270  0.000989 -0.000766\n",
       "2009-08-31 -0.008939  0.001902 -0.005020 -0.010189 -0.009624"
      ]
     },
     "metadata": {},
     "output_type": "display_data"
    }
   ],
   "source": [
    "display(log_return_df.head())"
   ]
  },
  {
   "cell_type": "code",
   "execution_count": 34,
   "metadata": {},
   "outputs": [
    {
     "data": {
      "application/vnd.microsoft.datawrangler.viewer.v0+json": {
       "columns": [
        {
         "name": "index",
         "rawType": "object",
         "type": "string"
        },
        {
         "name": "SPY",
         "rawType": "float64",
         "type": "float"
        },
        {
         "name": "BND",
         "rawType": "float64",
         "type": "float"
        },
        {
         "name": "GLD",
         "rawType": "float64",
         "type": "float"
        },
        {
         "name": "QQQ",
         "rawType": "float64",
         "type": "float"
        },
        {
         "name": "VTI",
         "rawType": "float64",
         "type": "float"
        }
       ],
       "conversionMethod": "pd.DataFrame",
       "ref": "fb46739c-e865-4537-9625-9061f40d1942",
       "rows": [
        [
         "count",
         "3770.0",
         "3770.0",
         "3770.0",
         "3770.0",
         "3770.0"
        ],
        [
         "mean",
         "0.0005206183812155708",
         "9.88635354714262e-05",
         "0.0002443546189781528",
         "0.0006904976399853889",
         "0.0005128757978304085"
        ],
        [
         "std",
         "0.010813766543849133",
         "0.003035795440154115",
         "0.009848657535838943",
         "0.01288019157412484",
         "0.011084736000615589"
        ],
        [
         "min",
         "-0.11588657910943803",
         "-0.05591919973790291",
         "-0.09190507457983844",
         "-0.12759260449976267",
         "-0.12082230549181795"
        ],
        [
         "25%",
         "-0.0037488808362848122",
         "-0.0013424383983023445",
         "-0.004809675579850335",
         "-0.004746869994179986",
         "-0.003989349966569853"
        ],
        [
         "50%",
         "0.0007010423876011689",
         "0.0002363479393971091",
         "0.00047906893384702047",
         "0.0011970592783739973",
         "0.0007968590358911206"
        ],
        [
         "75%",
         "0.005787281783872045",
         "0.0016465759057435795",
         "0.005499876619479101",
         "0.0072623883476261916",
         "0.005906159892381261"
        ],
        [
         "max",
         "0.08673119010485354",
         "0.041334774618126784",
         "0.047873912303474195",
         "0.08130878042889995",
         "0.0906609177488951"
        ]
       ],
       "shape": {
        "columns": 5,
        "rows": 8
       }
      },
      "text/html": [
       "<div>\n",
       "<style scoped>\n",
       "    .dataframe tbody tr th:only-of-type {\n",
       "        vertical-align: middle;\n",
       "    }\n",
       "\n",
       "    .dataframe tbody tr th {\n",
       "        vertical-align: top;\n",
       "    }\n",
       "\n",
       "    .dataframe thead th {\n",
       "        text-align: right;\n",
       "    }\n",
       "</style>\n",
       "<table border=\"1\" class=\"dataframe\">\n",
       "  <thead>\n",
       "    <tr style=\"text-align: right;\">\n",
       "      <th></th>\n",
       "      <th>SPY</th>\n",
       "      <th>BND</th>\n",
       "      <th>GLD</th>\n",
       "      <th>QQQ</th>\n",
       "      <th>VTI</th>\n",
       "    </tr>\n",
       "  </thead>\n",
       "  <tbody>\n",
       "    <tr>\n",
       "      <th>count</th>\n",
       "      <td>3770.000000</td>\n",
       "      <td>3770.000000</td>\n",
       "      <td>3770.000000</td>\n",
       "      <td>3770.000000</td>\n",
       "      <td>3770.000000</td>\n",
       "    </tr>\n",
       "    <tr>\n",
       "      <th>mean</th>\n",
       "      <td>0.000521</td>\n",
       "      <td>0.000099</td>\n",
       "      <td>0.000244</td>\n",
       "      <td>0.000690</td>\n",
       "      <td>0.000513</td>\n",
       "    </tr>\n",
       "    <tr>\n",
       "      <th>std</th>\n",
       "      <td>0.010814</td>\n",
       "      <td>0.003036</td>\n",
       "      <td>0.009849</td>\n",
       "      <td>0.012880</td>\n",
       "      <td>0.011085</td>\n",
       "    </tr>\n",
       "    <tr>\n",
       "      <th>min</th>\n",
       "      <td>-0.115887</td>\n",
       "      <td>-0.055919</td>\n",
       "      <td>-0.091905</td>\n",
       "      <td>-0.127593</td>\n",
       "      <td>-0.120822</td>\n",
       "    </tr>\n",
       "    <tr>\n",
       "      <th>25%</th>\n",
       "      <td>-0.003749</td>\n",
       "      <td>-0.001342</td>\n",
       "      <td>-0.004810</td>\n",
       "      <td>-0.004747</td>\n",
       "      <td>-0.003989</td>\n",
       "    </tr>\n",
       "    <tr>\n",
       "      <th>50%</th>\n",
       "      <td>0.000701</td>\n",
       "      <td>0.000236</td>\n",
       "      <td>0.000479</td>\n",
       "      <td>0.001197</td>\n",
       "      <td>0.000797</td>\n",
       "    </tr>\n",
       "    <tr>\n",
       "      <th>75%</th>\n",
       "      <td>0.005787</td>\n",
       "      <td>0.001647</td>\n",
       "      <td>0.005500</td>\n",
       "      <td>0.007262</td>\n",
       "      <td>0.005906</td>\n",
       "    </tr>\n",
       "    <tr>\n",
       "      <th>max</th>\n",
       "      <td>0.086731</td>\n",
       "      <td>0.041335</td>\n",
       "      <td>0.047874</td>\n",
       "      <td>0.081309</td>\n",
       "      <td>0.090661</td>\n",
       "    </tr>\n",
       "  </tbody>\n",
       "</table>\n",
       "</div>"
      ],
      "text/plain": [
       "               SPY          BND          GLD          QQQ          VTI\n",
       "count  3770.000000  3770.000000  3770.000000  3770.000000  3770.000000\n",
       "mean      0.000521     0.000099     0.000244     0.000690     0.000513\n",
       "std       0.010814     0.003036     0.009849     0.012880     0.011085\n",
       "min      -0.115887    -0.055919    -0.091905    -0.127593    -0.120822\n",
       "25%      -0.003749    -0.001342    -0.004810    -0.004747    -0.003989\n",
       "50%       0.000701     0.000236     0.000479     0.001197     0.000797\n",
       "75%       0.005787     0.001647     0.005500     0.007262     0.005906\n",
       "max       0.086731     0.041335     0.047874     0.081309     0.090661"
      ]
     },
     "execution_count": 34,
     "metadata": {},
     "output_type": "execute_result"
    }
   ],
   "source": [
    "log_return_df.describe()"
   ]
  },
  {
   "cell_type": "markdown",
   "metadata": {},
   "source": [
    "###  Equally Weighted Portfolio\n",
    "Equally weighted portfolio with a total value of 1,000,000"
   ]
  },
  {
   "cell_type": "code",
   "execution_count": 38,
   "metadata": {},
   "outputs": [
    {
     "name": "stdout",
     "output_type": "stream",
     "text": [
      "[0.2 0.2 0.2 0.2 0.2]\n"
     ]
    }
   ],
   "source": [
    "portfolio_value = 1000000\n",
    "weights = np.array([1/len(tickers)]*len(tickers))\n",
    "print(weights)"
   ]
  },
  {
   "cell_type": "code",
   "execution_count": 39,
   "metadata": {},
   "outputs": [
    {
     "data": {
      "text/plain": [
       "Date\n",
       "2009-08-25    0.002606\n",
       "2009-08-26   -0.000289\n",
       "2009-08-27    0.002263\n",
       "2009-08-28    0.001866\n",
       "2009-08-31   -0.006374\n",
       "                ...   \n",
       "2024-08-12    0.004158\n",
       "2024-08-13    0.011912\n",
       "2024-08-14    0.000002\n",
       "2024-08-15    0.011615\n",
       "2024-08-16    0.006041\n",
       "Length: 3770, dtype: float64"
      ]
     },
     "metadata": {},
     "output_type": "display_data"
    }
   ],
   "source": [
    "display((log_return_df * weights).sum(axis=1))\n"
   ]
  },
  {
   "cell_type": "code",
   "execution_count": 44,
   "metadata": {},
   "outputs": [
    {
     "data": {
      "text/plain": [
       "Date\n",
       "2009-08-25    0.002606\n",
       "2009-08-26   -0.000289\n",
       "2009-08-27    0.002263\n",
       "2009-08-28    0.001866\n",
       "2009-08-31   -0.006374\n",
       "                ...   \n",
       "2024-08-12    0.004158\n",
       "2024-08-13    0.011912\n",
       "2024-08-14    0.000002\n",
       "2024-08-15    0.011615\n",
       "2024-08-16    0.006041\n",
       "Length: 3770, dtype: float64"
      ]
     },
     "metadata": {},
     "output_type": "display_data"
    }
   ],
   "source": [
    "hist_returns_df = (log_return_df * weights).sum(axis=1)\n",
    "display(hist_returns_df)"
   ]
  },
  {
   "cell_type": "markdown",
   "metadata": {},
   "source": [
    "### X-Day Historical Returns\n",
    "\n",
    "X-day historical returns. In this example, we’ll use a 50-day window."
   ]
  },
  {
   "cell_type": "code",
   "execution_count": 65,
   "metadata": {},
   "outputs": [
    {
     "data": {
      "application/vnd.microsoft.datawrangler.viewer.v0+json": {
       "columns": [
        {
         "name": "Date",
         "rawType": "datetime64[ns]",
         "type": "datetime"
        },
        {
         "name": "Shock",
         "rawType": "float64",
         "type": "float"
        }
       ],
       "conversionMethod": "pd.DataFrame",
       "ref": "81da5ea6-0898-4305-b490-86064668873d",
       "rows": [
        [
         "2009-11-03 00:00:00",
         "0.044488898875640295"
        ],
        [
         "2009-11-04 00:00:00",
         "0.0442264706988058"
        ],
        [
         "2009-11-05 00:00:00",
         "0.05678004882531439"
        ],
        [
         "2009-11-06 00:00:00",
         "0.05762748706570596"
        ],
        [
         "2009-11-09 00:00:00",
         "0.070742800966954"
        ],
        [
         "2009-11-10 00:00:00",
         "0.07817601471565769"
        ],
        [
         "2009-11-11 00:00:00",
         "0.09561578964348577"
        ],
        [
         "2009-11-12 00:00:00",
         "0.08434997550203722"
        ],
        [
         "2009-11-13 00:00:00",
         "0.08385424497885281"
        ],
        [
         "2009-11-16 00:00:00",
         "0.08615110722926805"
        ],
        [
         "2009-11-17 00:00:00",
         "0.08249053089471592"
        ],
        [
         "2009-11-18 00:00:00",
         "0.07680670963998931"
        ],
        [
         "2009-11-19 00:00:00",
         "0.06040722842796424"
        ],
        [
         "2009-11-20 00:00:00",
         "0.05649937463311378"
        ],
        [
         "2009-11-23 00:00:00",
         "0.06672987535744218"
        ],
        [
         "2009-11-24 00:00:00",
         "0.06327707577792595"
        ],
        [
         "2009-11-25 00:00:00",
         "0.05820347729685614"
        ],
        [
         "2009-11-27 00:00:00",
         "0.04741296666877366"
        ],
        [
         "2009-11-30 00:00:00",
         "0.05055572896288023"
        ],
        [
         "2009-12-01 00:00:00",
         "0.06144834320813819"
        ],
        [
         "2009-12-02 00:00:00",
         "0.05986599268739726"
        ],
        [
         "2009-12-03 00:00:00",
         "0.06045703278414119"
        ],
        [
         "2009-12-04 00:00:00",
         "0.06342227866716565"
        ],
        [
         "2009-12-07 00:00:00",
         "0.0659294355919806"
        ],
        [
         "2009-12-08 00:00:00",
         "0.04600710473317972"
        ],
        [
         "2009-12-09 00:00:00",
         "0.05006537743471571"
        ],
        [
         "2009-12-10 00:00:00",
         "0.05136413758272014"
        ],
        [
         "2009-12-11 00:00:00",
         "0.06694677847785534"
        ],
        [
         "2009-12-14 00:00:00",
         "0.07553719516856996"
        ],
        [
         "2009-12-15 00:00:00",
         "0.06153430490167774"
        ],
        [
         "2009-12-16 00:00:00",
         "0.0508052045108982"
        ],
        [
         "2009-12-17 00:00:00",
         "0.034649595860866446"
        ],
        [
         "2009-12-18 00:00:00",
         "0.03661937827894764"
        ],
        [
         "2009-12-21 00:00:00",
         "0.0374926419555599"
        ],
        [
         "2009-12-22 00:00:00",
         "0.034519146862223155"
        ],
        [
         "2009-12-23 00:00:00",
         "0.03714082682163093"
        ],
        [
         "2009-12-24 00:00:00",
         "0.03485946494746796"
        ],
        [
         "2009-12-28 00:00:00",
         "0.038688056161275866"
        ],
        [
         "2009-12-29 00:00:00",
         "0.03894486182243611"
        ],
        [
         "2009-12-30 00:00:00",
         "0.031109697798628412"
        ],
        [
         "2009-12-31 00:00:00",
         "0.029328182329757056"
        ],
        [
         "2010-01-04 00:00:00",
         "0.047247592371499864"
        ],
        [
         "2010-01-05 00:00:00",
         "0.043841134093653304"
        ],
        [
         "2010-01-06 00:00:00",
         "0.05339701293444064"
        ],
        [
         "2010-01-07 00:00:00",
         "0.06234491255520242"
        ],
        [
         "2010-01-08 00:00:00",
         "0.07085088116973384"
        ],
        [
         "2010-01-11 00:00:00",
         "0.08847227171774248"
        ],
        [
         "2010-01-12 00:00:00",
         "0.0629894037002715"
        ],
        [
         "2010-01-13 00:00:00",
         "0.08673627520324051"
        ],
        [
         "2010-01-14 00:00:00",
         "0.0831691100464677"
        ]
       ],
       "shape": {
        "columns": 1,
        "rows": 3721
       }
      },
      "text/html": [
       "<div>\n",
       "<style scoped>\n",
       "    .dataframe tbody tr th:only-of-type {\n",
       "        vertical-align: middle;\n",
       "    }\n",
       "\n",
       "    .dataframe tbody tr th {\n",
       "        vertical-align: top;\n",
       "    }\n",
       "\n",
       "    .dataframe thead th {\n",
       "        text-align: right;\n",
       "    }\n",
       "</style>\n",
       "<table border=\"1\" class=\"dataframe\">\n",
       "  <thead>\n",
       "    <tr style=\"text-align: right;\">\n",
       "      <th></th>\n",
       "      <th>Shock</th>\n",
       "    </tr>\n",
       "    <tr>\n",
       "      <th>Date</th>\n",
       "      <th></th>\n",
       "    </tr>\n",
       "  </thead>\n",
       "  <tbody>\n",
       "    <tr>\n",
       "      <th>2009-11-03</th>\n",
       "      <td>0.044489</td>\n",
       "    </tr>\n",
       "    <tr>\n",
       "      <th>2009-11-04</th>\n",
       "      <td>0.044226</td>\n",
       "    </tr>\n",
       "    <tr>\n",
       "      <th>2009-11-05</th>\n",
       "      <td>0.056780</td>\n",
       "    </tr>\n",
       "    <tr>\n",
       "      <th>2009-11-06</th>\n",
       "      <td>0.057627</td>\n",
       "    </tr>\n",
       "    <tr>\n",
       "      <th>2009-11-09</th>\n",
       "      <td>0.070743</td>\n",
       "    </tr>\n",
       "    <tr>\n",
       "      <th>...</th>\n",
       "      <td>...</td>\n",
       "    </tr>\n",
       "    <tr>\n",
       "      <th>2024-08-12</th>\n",
       "      <td>0.028571</td>\n",
       "    </tr>\n",
       "    <tr>\n",
       "      <th>2024-08-13</th>\n",
       "      <td>0.037958</td>\n",
       "    </tr>\n",
       "    <tr>\n",
       "      <th>2024-08-14</th>\n",
       "      <td>0.033774</td>\n",
       "    </tr>\n",
       "    <tr>\n",
       "      <th>2024-08-15</th>\n",
       "      <td>0.045695</td>\n",
       "    </tr>\n",
       "    <tr>\n",
       "      <th>2024-08-16</th>\n",
       "      <td>0.040038</td>\n",
       "    </tr>\n",
       "  </tbody>\n",
       "</table>\n",
       "<p>3721 rows × 1 columns</p>\n",
       "</div>"
      ],
      "text/plain": [
       "               Shock\n",
       "Date                \n",
       "2009-11-03  0.044489\n",
       "2009-11-04  0.044226\n",
       "2009-11-05  0.056780\n",
       "2009-11-06  0.057627\n",
       "2009-11-09  0.070743\n",
       "...              ...\n",
       "2024-08-12  0.028571\n",
       "2024-08-13  0.037958\n",
       "2024-08-14  0.033774\n",
       "2024-08-15  0.045695\n",
       "2024-08-16  0.040038\n",
       "\n",
       "[3721 rows x 1 columns]"
      ]
     },
     "metadata": {},
     "output_type": "display_data"
    }
   ],
   "source": [
    "days = 50\n",
    "\n",
    "range_returns_df = pd.DataFrame(hist_returns_df.rolling(window = days).sum(), columns=['Shock'])\n",
    "range_returns_df = range_returns_df.dropna()\n",
    "\n",
    "display(range_returns_df)"
   ]
  },
  {
   "cell_type": "code",
   "execution_count": 67,
   "metadata": {},
   "outputs": [
    {
     "data": {
      "text/plain": [
       "pandas.core.frame.DataFrame"
      ]
     },
     "execution_count": 67,
     "metadata": {},
     "output_type": "execute_result"
    }
   ],
   "source": [
    "type(range_returns_df)"
   ]
  },
  {
   "cell_type": "markdown",
   "metadata": {},
   "source": [
    "### Calculating VaR Using the Historical Method"
   ]
  },
  {
   "cell_type": "code",
   "execution_count": 68,
   "metadata": {},
   "outputs": [
    {
     "data": {
      "application/vnd.microsoft.datawrangler.viewer.v0+json": {
       "columns": [
        {
         "name": "Date",
         "rawType": "datetime64[ns]",
         "type": "datetime"
        },
        {
         "name": "Shock",
         "rawType": "float64",
         "type": "float"
        }
       ],
       "conversionMethod": "pd.DataFrame",
       "ref": "48381ae8-dc54-4d9a-bdea-22acf1bde26f",
       "rows": [
        [
         "2009-11-03 00:00:00",
         "0.044488898875640295"
        ],
        [
         "2009-11-04 00:00:00",
         "0.0442264706988058"
        ],
        [
         "2009-11-05 00:00:00",
         "0.05678004882531439"
        ],
        [
         "2009-11-06 00:00:00",
         "0.05762748706570596"
        ],
        [
         "2009-11-09 00:00:00",
         "0.070742800966954"
        ],
        [
         "2009-11-10 00:00:00",
         "0.07817601471565769"
        ],
        [
         "2009-11-11 00:00:00",
         "0.09561578964348577"
        ],
        [
         "2009-11-12 00:00:00",
         "0.08434997550203722"
        ],
        [
         "2009-11-13 00:00:00",
         "0.08385424497885281"
        ],
        [
         "2009-11-16 00:00:00",
         "0.08615110722926805"
        ],
        [
         "2009-11-17 00:00:00",
         "0.08249053089471592"
        ],
        [
         "2009-11-18 00:00:00",
         "0.07680670963998931"
        ],
        [
         "2009-11-19 00:00:00",
         "0.06040722842796424"
        ],
        [
         "2009-11-20 00:00:00",
         "0.05649937463311378"
        ],
        [
         "2009-11-23 00:00:00",
         "0.06672987535744218"
        ],
        [
         "2009-11-24 00:00:00",
         "0.06327707577792595"
        ],
        [
         "2009-11-25 00:00:00",
         "0.05820347729685614"
        ],
        [
         "2009-11-27 00:00:00",
         "0.04741296666877366"
        ],
        [
         "2009-11-30 00:00:00",
         "0.05055572896288023"
        ],
        [
         "2009-12-01 00:00:00",
         "0.06144834320813819"
        ],
        [
         "2009-12-02 00:00:00",
         "0.05986599268739726"
        ],
        [
         "2009-12-03 00:00:00",
         "0.06045703278414119"
        ],
        [
         "2009-12-04 00:00:00",
         "0.06342227866716565"
        ],
        [
         "2009-12-07 00:00:00",
         "0.0659294355919806"
        ],
        [
         "2009-12-08 00:00:00",
         "0.04600710473317972"
        ],
        [
         "2009-12-09 00:00:00",
         "0.05006537743471571"
        ],
        [
         "2009-12-10 00:00:00",
         "0.05136413758272014"
        ],
        [
         "2009-12-11 00:00:00",
         "0.06694677847785534"
        ],
        [
         "2009-12-14 00:00:00",
         "0.07553719516856996"
        ],
        [
         "2009-12-15 00:00:00",
         "0.06153430490167774"
        ],
        [
         "2009-12-16 00:00:00",
         "0.0508052045108982"
        ],
        [
         "2009-12-17 00:00:00",
         "0.034649595860866446"
        ],
        [
         "2009-12-18 00:00:00",
         "0.03661937827894764"
        ],
        [
         "2009-12-21 00:00:00",
         "0.0374926419555599"
        ],
        [
         "2009-12-22 00:00:00",
         "0.034519146862223155"
        ],
        [
         "2009-12-23 00:00:00",
         "0.03714082682163093"
        ],
        [
         "2009-12-24 00:00:00",
         "0.03485946494746796"
        ],
        [
         "2009-12-28 00:00:00",
         "0.038688056161275866"
        ],
        [
         "2009-12-29 00:00:00",
         "0.03894486182243611"
        ],
        [
         "2009-12-30 00:00:00",
         "0.031109697798628412"
        ],
        [
         "2009-12-31 00:00:00",
         "0.029328182329757056"
        ],
        [
         "2010-01-04 00:00:00",
         "0.047247592371499864"
        ],
        [
         "2010-01-05 00:00:00",
         "0.043841134093653304"
        ],
        [
         "2010-01-06 00:00:00",
         "0.05339701293444064"
        ],
        [
         "2010-01-07 00:00:00",
         "0.06234491255520242"
        ],
        [
         "2010-01-08 00:00:00",
         "0.07085088116973384"
        ],
        [
         "2010-01-11 00:00:00",
         "0.08847227171774248"
        ],
        [
         "2010-01-12 00:00:00",
         "0.0629894037002715"
        ],
        [
         "2010-01-13 00:00:00",
         "0.08673627520324051"
        ],
        [
         "2010-01-14 00:00:00",
         "0.0831691100464677"
        ]
       ],
       "shape": {
        "columns": 1,
        "rows": 3721
       }
      },
      "text/html": [
       "<div>\n",
       "<style scoped>\n",
       "    .dataframe tbody tr th:only-of-type {\n",
       "        vertical-align: middle;\n",
       "    }\n",
       "\n",
       "    .dataframe tbody tr th {\n",
       "        vertical-align: top;\n",
       "    }\n",
       "\n",
       "    .dataframe thead th {\n",
       "        text-align: right;\n",
       "    }\n",
       "</style>\n",
       "<table border=\"1\" class=\"dataframe\">\n",
       "  <thead>\n",
       "    <tr style=\"text-align: right;\">\n",
       "      <th></th>\n",
       "      <th>Shock</th>\n",
       "    </tr>\n",
       "    <tr>\n",
       "      <th>Date</th>\n",
       "      <th></th>\n",
       "    </tr>\n",
       "  </thead>\n",
       "  <tbody>\n",
       "    <tr>\n",
       "      <th>2009-11-03</th>\n",
       "      <td>0.044489</td>\n",
       "    </tr>\n",
       "    <tr>\n",
       "      <th>2009-11-04</th>\n",
       "      <td>0.044226</td>\n",
       "    </tr>\n",
       "    <tr>\n",
       "      <th>2009-11-05</th>\n",
       "      <td>0.056780</td>\n",
       "    </tr>\n",
       "    <tr>\n",
       "      <th>2009-11-06</th>\n",
       "      <td>0.057627</td>\n",
       "    </tr>\n",
       "    <tr>\n",
       "      <th>2009-11-09</th>\n",
       "      <td>0.070743</td>\n",
       "    </tr>\n",
       "    <tr>\n",
       "      <th>...</th>\n",
       "      <td>...</td>\n",
       "    </tr>\n",
       "    <tr>\n",
       "      <th>2024-08-12</th>\n",
       "      <td>0.028571</td>\n",
       "    </tr>\n",
       "    <tr>\n",
       "      <th>2024-08-13</th>\n",
       "      <td>0.037958</td>\n",
       "    </tr>\n",
       "    <tr>\n",
       "      <th>2024-08-14</th>\n",
       "      <td>0.033774</td>\n",
       "    </tr>\n",
       "    <tr>\n",
       "      <th>2024-08-15</th>\n",
       "      <td>0.045695</td>\n",
       "    </tr>\n",
       "    <tr>\n",
       "      <th>2024-08-16</th>\n",
       "      <td>0.040038</td>\n",
       "    </tr>\n",
       "  </tbody>\n",
       "</table>\n",
       "<p>3721 rows × 1 columns</p>\n",
       "</div>"
      ],
      "text/plain": [
       "               Shock\n",
       "Date                \n",
       "2009-11-03  0.044489\n",
       "2009-11-04  0.044226\n",
       "2009-11-05  0.056780\n",
       "2009-11-06  0.057627\n",
       "2009-11-09  0.070743\n",
       "...              ...\n",
       "2024-08-12  0.028571\n",
       "2024-08-13  0.037958\n",
       "2024-08-14  0.033774\n",
       "2024-08-15  0.045695\n",
       "2024-08-16  0.040038\n",
       "\n",
       "[3721 rows x 1 columns]"
      ]
     },
     "execution_count": 68,
     "metadata": {},
     "output_type": "execute_result"
    }
   ],
   "source": [
    "range_returns_df"
   ]
  },
  {
   "cell_type": "code",
   "execution_count": 69,
   "metadata": {},
   "outputs": [
    {
     "name": "stdout",
     "output_type": "stream",
     "text": [
      "109875.15885043364\n"
     ]
    }
   ],
   "source": [
    "confidence_interval = 0.99\n",
    "\n",
    "VaR = -np.percentile(range_returns_df, 100 - (confidence_interval * 100))*portfolio_value\n",
    "print(VaR)"
   ]
  },
  {
   "cell_type": "code",
   "execution_count": null,
   "metadata": {},
   "outputs": [],
   "source": [
    "def plot_returns(days):\n",
    "    return_window = days\n",
    "    range_returns = hist_returns_df.rolling(window=return_window).sum()\n",
    "    range_returns = range_returns.dropna()\n",
    "\n",
    "    range_returns_portfolio = range_returns * portfolio_value\n",
    "\n",
    "    plt.hist(range_returns_portfolio.dropna(), bins=50, density=True)\n",
    "    plt.xlabel(f'{return_window}-Day Portfolio Return')\n",
    "    plt.ylabel('Frequency')\n",
    "    plt.title(f'Distribution of Portfolio {return_window}-Day Returns')\n",
    "    plt.axvline(-VaR, color='r', linestyle='dashed', linewidth=2, label=f'VaR at {confidence_interval:.0%} confidence level')\n",
    "    plt.legend()\n",
    "    plt.show()\n"
   ]
  },
  {
   "cell_type": "code",
   "execution_count": 72,
   "metadata": {},
   "outputs": [
    {
     "data": {
      "image/png": "[encoded data removed]",
      "text/plain": [
       "<Figure size 640x480 with 1 Axes>"
      ]
     },
     "metadata": {},
     "output_type": "display_data"
    }
   ],
   "source": [
    "plot_returns(days=10)"
   ]
  },
  {
   "cell_type": "code",
   "execution_count": 58,
   "metadata": {},
   "outputs": [
    {
     "data": {
      "image/png": "[encoded data removed]",
      "text/plain": [
       "<Figure size 640x480 with 1 Axes>"
      ]
     },
     "metadata": {},
     "output_type": "display_data"
    }
   ],
   "source": [
    "plot_returns(days=50)"
   ]
  }
 ],
 "metadata": {
  "kernelspec": {
   "display_name": "qf",
   "language": "python",
   "name": "python3"
  },
  "language_info": {
   "codemirror_mode": {
    "name": "ipython",
    "version": 3
   },
   "file_extension": ".py",
   "mimetype": "text/x-python",
   "name": "python",
   "nbconvert_exporter": "python",
   "pygments_lexer": "ipython3",
   "version": "3.11.11"
  }
 },
 "nbformat": 4,
 "nbformat_minor": 2
}
