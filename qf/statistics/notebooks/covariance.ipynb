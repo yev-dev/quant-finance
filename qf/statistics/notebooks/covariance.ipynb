{
 "cells": [
  {
   "cell_type": "markdown",
   "metadata": {},
   "source": [
    "We calculate the covariance matrix to understand the relationships and interactions between multiple variables. Also, covariance matrix plays an important role in finding out portfolio variance for optimising the portfolio."
   ]
  },
  {
   "cell_type": "code",
   "execution_count": 6,
   "metadata": {},
   "outputs": [],
   "source": [
    "import pathlib\n",
    "import sys\n",
    "import os\n",
    "import logging\n",
    "import numpy as np\n",
    "import pandas as pd\n",
    "import yfinance as yf\n",
    "import matplotlib.pyplot as plt\n",
    "import datetime as dt\n",
    "\n",
    "from math import sqrt"
   ]
  },
  {
   "cell_type": "code",
   "execution_count": 7,
   "metadata": {},
   "outputs": [],
   "source": [
    "logger = logging.getLogger(__name__)\n",
    "logging.basicConfig(format='%(asctime)s | %(levelname)s : %(message)s', level=logging.INFO, stream=sys.stdout)"
   ]
  },
  {
   "cell_type": "code",
   "execution_count": 13,
   "metadata": {},
   "outputs": [],
   "source": [
    "tickers = ['AAPL','MSFT','AMZN','GOOG','FB','WMT','JPM','TSLA','NFLX','ADBE']\n",
    "prices_fname = 'covariance_adj_prices.csv'"
   ]
  },
  {
   "cell_type": "code",
   "execution_count": 10,
   "metadata": {},
   "outputs": [],
   "source": [
    "### Set time from to a certain number of years\n",
    "years = 10\n",
    "\n",
    "end_date = dt.datetime.now()\n",
    "start_date = end_date - dt.timedelta(days = 365*years)\n"
   ]
  },
  {
   "cell_type": "code",
   "execution_count": 11,
   "metadata": {},
   "outputs": [
    {
     "name": "stderr",
     "output_type": "stream",
     "text": [
      "[*********************100%%**********************]  1 of 1 completed\n",
      "[*********************100%%**********************]  1 of 1 completed\n",
      "[*********************100%%**********************]  1 of 1 completed\n",
      "[*********************100%%**********************]  1 of 1 completed\n",
      "[*********************100%%**********************]  1 of 1 completed"
     ]
    },
    {
     "name": "stdout",
     "output_type": "stream",
     "text": [
      "2024-09-02 08:28:30,522 | ERROR : \n",
      "1 Failed download:\n",
      "2024-09-02 08:28:30,523 | ERROR : ['FB']: YFTzMissingError('$%ticker%: possibly delisted; No timezone found')\n"
     ]
    },
    {
     "name": "stderr",
     "output_type": "stream",
     "text": [
      "\n",
      "[*********************100%%**********************]  1 of 1 completed\n",
      "[*********************100%%**********************]  1 of 1 completed\n",
      "[*********************100%%**********************]  1 of 1 completed\n",
      "[*********************100%%**********************]  1 of 1 completed\n",
      "[*********************100%%**********************]  1 of 1 completed"
     ]
    },
    {
     "name": "stdout",
     "output_type": "stream",
     "text": [
      "                  AAPL        MSFT        AMZN        GOOG  FB        WMT  \\\n",
      "Date                                                                        \n",
      "2014-09-05   21.969040   39.253918   17.319000   29.190548 NaN  21.081003   \n",
      "2014-09-08   21.833643   39.732738   17.117001   29.371843 NaN  20.814474   \n",
      "2014-09-09   21.751509   39.980682   16.487499   28.938030 NaN  20.871592   \n",
      "2014-09-10   22.419661   40.049088   16.566500   29.042126 NaN  20.809032   \n",
      "2014-09-11   22.515112   40.185894   16.525999   28.954964 NaN  20.697523   \n",
      "...                ...         ...         ...         ...  ..        ...   \n",
      "2024-08-26  227.179993  413.489990  175.500000  167.929993 NaN  76.029999   \n",
      "2024-08-27  228.029999  413.839996  173.119995  166.380005 NaN  76.129997   \n",
      "2024-08-28  226.490005  410.600006  170.800003  164.500000 NaN  76.080002   \n",
      "2024-08-29  229.789993  413.119995  172.119995  163.399994 NaN  76.419998   \n",
      "2024-08-30  229.000000  417.140015  178.500000  165.110001 NaN  77.230003   \n",
      "\n",
      "                   JPM        TSLA        NFLX        ADBE  \n",
      "Date                                                        \n",
      "2014-09-05   45.420303   18.492666   67.954285   73.129997  \n",
      "2014-09-08   45.405144   18.807333   68.475716   73.389999  \n",
      "2014-09-09   44.775894   18.565332   68.430000   72.419998  \n",
      "2014-09-10   44.897198   18.740000   69.198570   72.330002  \n",
      "2014-09-11   45.306595   18.687332   68.794289   72.419998  \n",
      "...                ...         ...         ...         ...  \n",
      "2024-08-26  219.169998  213.210007  688.440002  559.440002  \n",
      "2024-08-27  220.179993  209.210007  695.719971  567.820007  \n",
      "2024-08-28  221.289993  205.750000  683.840027  560.539978  \n",
      "2024-08-29  222.210007  206.279999  692.479980  569.630005  \n",
      "2024-08-30  224.800003  214.110001  701.349976  574.409973  \n",
      "\n",
      "[2514 rows x 10 columns]\n"
     ]
    },
    {
     "name": "stderr",
     "output_type": "stream",
     "text": [
      "\n"
     ]
    }
   ],
   "source": [
    "adj_close_df = pd.DataFrame()\n",
    "for ticker in tickers:\n",
    "    data = yf.download(ticker, start=start_date, end=end_date)\n",
    "    adj_close_df[ticker] = data['Adj Close']\n",
    "\n",
    "print(adj_close_df)"
   ]
  },
  {
   "cell_type": "code",
   "execution_count": 12,
   "metadata": {},
   "outputs": [],
   "source": [
    "adj_close_df.to_csv('data/covariance.csv', index=False)"
   ]
  },
  {
   "cell_type": "markdown",
   "metadata": {},
   "source": []
  },
  {
   "cell_type": "markdown",
   "metadata": {},
   "source": [
    "#### Covariance RMatrix representation\n",
    "\n",
    "In Python, a covariance matrix is a two-dimensional array or matrix that represents the covariances between multiple variables. It is typically represented using a NumPy array or a pandas DataFrame."
   ]
  },
  {
   "cell_type": "markdown",
   "metadata": {},
   "source": [
    "For example, let's consider a dataset with three variables: X, Y, and Z. We can calculate the covariance matrix using the “cov” function from NumPy or pandas."
   ]
  },
  {
   "cell_type": "code",
   "execution_count": 21,
   "metadata": {},
   "outputs": [
    {
     "name": "stdout",
     "output_type": "stream",
     "text": [
      "[[10.  10.   5. ]\n",
      " [10.  10.   5. ]\n",
      " [ 5.   5.   2.5]]\n"
     ]
    }
   ],
   "source": [
    "data = np.array([[2, 4, 6, 8, 10],\n",
    "[3, 5, 7, 9, 11],\n",
    "[1, 2, 3, 4, 5]])\n",
    "cov_matrix = np.cov(data)\n",
    "print(cov_matrix)"
   ]
  },
  {
   "cell_type": "code",
   "execution_count": 20,
   "metadata": {},
   "outputs": [
    {
     "name": "stdout",
     "output_type": "stream",
     "text": [
      "      X     Y    Z\n",
      "X  10.0  10.0  5.0\n",
      "Y  10.0  10.0  5.0\n",
      "Z   5.0   5.0  2.5\n"
     ]
    }
   ],
   "source": [
    "data = pd.DataFrame({'X': [2, 4, 6, 8, 10],\n",
    "'Y': [3, 5, 7, 9, 11],\n",
    "'Z': [1, 2, 3, 4, 5]})\n",
    "cov_matrix = data.cov()\n",
    "print(cov_matrix)"
   ]
  },
  {
   "cell_type": "code",
   "execution_count": 22,
   "metadata": {},
   "outputs": [
    {
     "data": {
      "text/plain": [
       "array([[ 2,  4,  6,  8, 10],\n",
       "       [ 3,  5,  7,  9, 11],\n",
       "       [ 1,  2,  3,  4,  5]])"
      ]
     },
     "execution_count": 22,
     "metadata": {},
     "output_type": "execute_result"
    }
   ],
   "source": [
    "data"
   ]
  },
  {
   "cell_type": "markdown",
   "metadata": {},
   "source": [
    "### References\n",
    "\n",
    "https://builtin.com/data-science/covariance-matrix#:~:text=Covariance%20matrices%20represent%20the%20covariance,data%20spreads%20among%20two%20dimensions.\n",
    "\n",
    "https://blog.quantinsti.com/calculating-covariance-matrix-portfolio-variance/\n"
   ]
  },
  {
   "cell_type": "markdown",
   "metadata": {},
   "source": []
  }
 ],
 "metadata": {
  "kernelspec": {
   "display_name": "fda",
   "language": "python",
   "name": "python3"
  },
  "language_info": {
   "codemirror_mode": {
    "name": "ipython",
    "version": 3
   },
   "file_extension": ".py",
   "mimetype": "text/x-python",
   "name": "python",
   "nbconvert_exporter": "python",
   "pygments_lexer": "ipython3",
   "version": "3.9.19"
  }
 },
 "nbformat": 4,
 "nbformat_minor": 2
}
